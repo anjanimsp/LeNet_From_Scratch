{
 "cells": [
  {
   "cell_type": "code",
   "execution_count": 1,
   "metadata": {},
   "outputs": [],
   "source": [
    "from keras.layers import Conv2D,MaxPool2D,Dense,Activation,Flatten,ZeroPadding2D\n",
    "from keras.models import Model,Input,Sequential\n",
    "import keras"
   ]
  },
  {
   "cell_type": "code",
   "execution_count": 2,
   "metadata": {},
   "outputs": [],
   "source": [
    "model=Sequential()\n",
    "model.add(Conv2D(6,(5,5),strides=(1,1),padding='valid',activation='relu',\n",
    "                 input_shape=(128,128,3)))\n",
    "model.add(MaxPool2D((2,2),(2,2)))\n",
    "model.add(Conv2D(16,(5,5),(1,1),padding='valid',activation='relu'))\n",
    "model.add(MaxPool2D((2,2),(2,2)))\n",
    "model.add(Conv2D(120,(5,5),(1,1),padding='valid',activation='relu'))\n",
    "model.add(Flatten())\n",
    "model.add(Dense(84,activation='relu'))\n",
    "model.add(Dense(2,activation='softmax'))\n"
   ]
  },
  {
   "cell_type": "code",
   "execution_count": 3,
   "metadata": {},
   "outputs": [],
   "source": [
    "model.compile(optimizer='adam',loss=keras.losses.binary_crossentropy,metrics=['accuracy'])"
   ]
  },
  {
   "cell_type": "code",
   "execution_count": 4,
   "metadata": {},
   "outputs": [
    {
     "name": "stdout",
     "output_type": "stream",
     "text": [
      "Model: \"sequential\"\n",
      "_________________________________________________________________\n",
      "Layer (type)                 Output Shape              Param #   \n",
      "=================================================================\n",
      "conv2d (Conv2D)              (None, 124, 124, 6)       456       \n",
      "_________________________________________________________________\n",
      "max_pooling2d (MaxPooling2D) (None, 62, 62, 6)         0         \n",
      "_________________________________________________________________\n",
      "conv2d_1 (Conv2D)            (None, 58, 58, 16)        2416      \n",
      "_________________________________________________________________\n",
      "max_pooling2d_1 (MaxPooling2 (None, 29, 29, 16)        0         \n",
      "_________________________________________________________________\n",
      "conv2d_2 (Conv2D)            (None, 25, 25, 120)       48120     \n",
      "_________________________________________________________________\n",
      "flatten (Flatten)            (None, 75000)             0         \n",
      "_________________________________________________________________\n",
      "dense (Dense)                (None, 84)                6300084   \n",
      "_________________________________________________________________\n",
      "dense_1 (Dense)              (None, 2)                 170       \n",
      "=================================================================\n",
      "Total params: 6,351,246\n",
      "Trainable params: 6,351,246\n",
      "Non-trainable params: 0\n",
      "_________________________________________________________________\n"
     ]
    }
   ],
   "source": [
    "model.summary()"
   ]
  },
  {
   "cell_type": "code",
   "execution_count": 5,
   "metadata": {},
   "outputs": [
    {
     "name": "stdout",
     "output_type": "stream",
     "text": [
      "Found 43 images belonging to 2 classes.\n",
      "Found 10 images belonging to 2 classes.\n"
     ]
    }
   ],
   "source": [
    "##Part 2 - Fitting the CNN to the images\n",
    "\n",
    "from keras.preprocessing.image import ImageDataGenerator\n",
    "\n",
    "train_datagen = ImageDataGenerator(rescale = 1./255,\n",
    "                                   shear_range = 0.2,\n",
    "                                   zoom_range = 0.4,\n",
    "                                   horizontal_flip = True)\n",
    "test_datagen = ImageDataGenerator(rescale = 1./255)\n",
    "\n",
    "training_set = train_datagen.flow_from_directory('/home/anjani/Desktop/AS DOC/iNeuron/classifer_practice_dataset/Dataset/Train',\n",
    "                                                 target_size = (128, 128),\n",
    "                                                 batch_size = 5,\n",
    "                                                 class_mode = 'binary')\n",
    "\n",
    "test_set = test_datagen.flow_from_directory('/home/anjani/Desktop/AS DOC/iNeuron/classifer_practice_dataset/Dataset/Test',\n",
    "                                            target_size = (128, 128),\n",
    "                                            batch_size = 5,\n",
    "                                            class_mode = 'binary')\n"
   ]
  },
  {
   "cell_type": "code",
   "execution_count": null,
   "metadata": {},
   "outputs": [],
   "source": []
  },
  {
   "cell_type": "code",
   "execution_count": 6,
   "metadata": {},
   "outputs": [
    {
     "name": "stdout",
     "output_type": "stream",
     "text": [
      "Epoch 1/10\n",
      "8/8 [==============================] - 5s 663ms/step - loss: 0.9202 - accuracy: 0.6053 - val_loss: 0.6939 - val_accuracy: 0.5000\n",
      "Epoch 2/10\n",
      "8/8 [==============================] - 5s 589ms/step - loss: 0.6933 - accuracy: 0.5789 - val_loss: 0.6932 - val_accuracy: 0.5000\n",
      "Epoch 3/10\n",
      "8/8 [==============================] - 4s 547ms/step - loss: 0.6932 - accuracy: 0.5000 - val_loss: 0.6931 - val_accuracy: 0.5000\n",
      "Epoch 4/10\n",
      "8/8 [==============================] - 4s 515ms/step - loss: 0.6931 - accuracy: 0.5000 - val_loss: 0.6931 - val_accuracy: 0.4000\n",
      "Epoch 5/10\n",
      "8/8 [==============================] - 3s 365ms/step - loss: 0.6931 - accuracy: 0.5000 - val_loss: 0.6931 - val_accuracy: 0.5000\n",
      "Epoch 6/10\n",
      "8/8 [==============================] - 4s 491ms/step - loss: 0.6931 - accuracy: 0.6316 - val_loss: 0.6931 - val_accuracy: 0.6000\n",
      "Epoch 7/10\n",
      "8/8 [==============================] - 4s 539ms/step - loss: 0.6931 - accuracy: 0.5263 - val_loss: 0.6931 - val_accuracy: 0.6000\n",
      "Epoch 8/10\n",
      "8/8 [==============================] - 4s 539ms/step - loss: 0.6931 - accuracy: 0.3158 - val_loss: 0.6931 - val_accuracy: 0.5000\n",
      "Epoch 9/10\n",
      "8/8 [==============================] - 3s 319ms/step - loss: 0.6931 - accuracy: 0.3158 - val_loss: 0.6931 - val_accuracy: 0.5000\n",
      "Epoch 10/10\n",
      "8/8 [==============================] - 4s 493ms/step - loss: 0.6931 - accuracy: 0.5000 - val_loss: 0.6931 - val_accuracy: 0.5000\n"
     ]
    }
   ],
   "source": [
    "model_x = model.fit(training_set,\n",
    "                         steps_per_epoch = int(43/5),\n",
    "                         epochs = 10,\n",
    "                         validation_data = test_set,    \n",
    "                         validation_steps = int(10/5))"
   ]
  },
  {
   "cell_type": "code",
   "execution_count": 7,
   "metadata": {},
   "outputs": [
    {
     "data": {
      "text/plain": [
       "array([[0.4553658, 0.5446342]], dtype=float32)"
      ]
     },
     "execution_count": 7,
     "metadata": {},
     "output_type": "execute_result"
    }
   ],
   "source": [
    "# Part 3 - Making new predictions\n",
    "import numpy as np\n",
    "from keras.preprocessing import image\n",
    "from keras.models import load_model\n",
    "\n",
    "#model = load_model('model.h5')\n",
    "test_image = image.load_img('/home/anjani/Desktop/AS DOC/iNeuron/classifer_practice_dataset/Dataset/Test/Woman/testwoman4.jpg', target_size = (128, 128))\n",
    "test_image = image.img_to_array(test_image)\n",
    "test_image = np.expand_dims(test_image, axis = 0)\n",
    "result = model.predict(test_image)\n",
    "result\n"
   ]
  },
  {
   "cell_type": "code",
   "execution_count": 8,
   "metadata": {},
   "outputs": [
    {
     "data": {
      "text/plain": [
       "{'Man': 0, 'Woman': 1}"
      ]
     },
     "execution_count": 8,
     "metadata": {},
     "output_type": "execute_result"
    }
   ],
   "source": [
    "training_set.class_indices"
   ]
  },
  {
   "cell_type": "code",
   "execution_count": null,
   "metadata": {},
   "outputs": [],
   "source": []
  }
 ],
 "metadata": {
  "kernelspec": {
   "display_name": "Python 2",
   "language": "python",
   "name": "python2"
  },
  "language_info": {
   "codemirror_mode": {
    "name": "ipython",
    "version": 3
   },
   "file_extension": ".py",
   "mimetype": "text/x-python",
   "name": "python",
   "nbconvert_exporter": "python",
   "pygments_lexer": "ipython3",
   "version": "3.7.1"
  }
 },
 "nbformat": 4,
 "nbformat_minor": 4
}
